{
 "cells": [
  {
   "cell_type": "code",
   "execution_count": null,
   "metadata": {},
   "outputs": [],
   "source": [
    "import pandas as pd\n",
    "import arcpy"
   ]
  },
  {
   "cell_type": "code",
   "execution_count": null,
   "metadata": {},
   "outputs": [],
   "source": [
    "# Load needs data\n",
    "needs_source = r'C:\\Users\\daniel.fourquet\\Documents\\Tasks\\VTrans Update\\DATA-EXPLORER-UPDATE_MIDTERM-NEEDS\\2023_VTrans_MidTerm_Needs_wExtra_Fields.gdb\\VTrans_MidTerm_Needs_2023'\n",
    "needs_fields = ['VDOT_District','CoSS_Name','PDC','Jurisdiction','Segment_Length','CoSS_Congestion','CoSS_Reliability','CoSS_Rail_Reliability','CoSS_Capacity_Preservation','CoSS_LA_TDM','CoSS_non_LA_TDM','CoSS_Safety_Intersection','CoSS_Safety_Segments','RN_Congestion','RN_Reliability','RN_Capacity_Preservation','RN_LA_TDM','RN_non_LA_TDM','RN_AC_Bicycle_Access','RN_AC_Pedestrian_Access','RN_AC_Transit_Access','RN_Transit_Equity','Safety_Segments','Safety_Intersection','Safety_Pedestrian','IEDA']\n",
    "df_needs = pd.DataFrame([row for row in arcpy.da.SearchCursor(needs_source, needs_fields)], columns=needs_fields)\n",
    "\n",
    "# Load GeoID Lookup Tables\n",
    "lookup_excel = 'Data_Explorer_Update.xlsx'\n",
    "geoIDs_Districts = pd.read_excel(lookup_excel, sheet_name='District_IDs')\n",
    "geoIDs_PDCs = pd.read_excel(lookup_excel, sheet_name='PDC_IDs')\n",
    "geoIDs_Jurisdictions = pd.read_excel(lookup_excel, sheet_name='Jurisdiction_IDs')"
   ]
  },
  {
   "cell_type": "code",
   "execution_count": null,
   "metadata": {},
   "outputs": [],
   "source": [
    "# Set up output DataFrame\n",
    "df_output_fields = ['statId','statistic','travelMarket','direction','unit','unitDescription','relativePriority','value','geoId','year']\n",
    "df_output = pd.DataFrame(columns=df_output_fields)"
   ]
  },
  {
   "cell_type": "markdown",
   "metadata": {},
   "source": [
    "### 10037 - At least One Need Present (Directional Miles) ###\n",
    "Calculated for Statewide, District, PDC, and Jurisdiction"
   ]
  },
  {
   "cell_type": "code",
   "execution_count": null,
   "metadata": {},
   "outputs": [
    {
     "name": "stdout",
     "output_type": "stream",
     "text": [
      "10037 - At least One Need Present (Directional Miles)\n",
      "Previous count: 164\n",
      "Current count: 156\n",
      "Difference: 8\n"
     ]
    }
   ],
   "source": [
    "data = []\n",
    "\n",
    "# Statewide\n",
    "data.append({\n",
    "    'geoId': 51000,\n",
    "    'value': df_needs['Segment_Length'].sum()\n",
    "})\n",
    "\n",
    "# District, PDC, and Jurisdiction\n",
    "def get_10037_data(geography, geoID_Dict):\n",
    "    df_10037 = df_needs.groupby(geography)['Segment_Length'].sum().reset_index()\n",
    "    df_10037 = df_10037.merge(geoID_Dict, left_on=geography, right_on='Name')\n",
    "    df_10037.rename(columns={'GeoID':'geoId', 'Segment_Length': 'value'}, inplace=True)\n",
    "    \n",
    "    return df_10037\n",
    "\n",
    "df_district_totals = get_10037_data('VDOT_District', geoIDs_Districts)\n",
    "data.extend(df_district_totals[['geoId', 'value']].to_dict('records'))\n",
    "# District totals will be referenced later\n",
    "\n",
    "df_pdc_totals = get_10037_data('PDC', geoIDs_PDCs)\n",
    "data.extend(df_pdc_totals[['geoId', 'value']].to_dict('records'))\n",
    "del(df_pdc_totals)\n",
    "\n",
    "df_jurisdiction_totals = get_10037_data('Jurisdiction', geoIDs_Jurisdictions)\n",
    "data.extend(df_jurisdiction_totals[['geoId', 'value']].to_dict('records'))\n",
    "del(df_jurisdiction_totals)\n",
    "\n",
    "\n",
    "# Fill in missing attributes\n",
    "statId = 10037\n",
    "statistic = 'At least One Need Present (Directional Miles)'\n",
    "travelMarket = 'CoSS, RN, UDA, Safety'\n",
    "direction = 'N.A'\n",
    "unit = 'Number'\n",
    "unitDescription = 'Directional Miles'\n",
    "relativePriority = 'Need Present'\n",
    "year = 2023\n",
    "for record in data:\n",
    "    record['statId'] = statId\n",
    "    record['statistic'] = statistic\n",
    "    record['travelMarket'] = travelMarket\n",
    "    record['direction'] = direction\n",
    "    record['unit'] = unit\n",
    "    record['unitDescription'] = unitDescription\n",
    "    record['relativePriority'] = relativePriority\n",
    "    record['year'] = year\n",
    "\n",
    "# Add data to output DataFrame\n",
    "df_output = df_output.append(data)\n",
    "\n",
    "# Check count of records.  Previous \n",
    "print('10037 - At least One Need Present (Directional Miles)')\n",
    "print('Previous count: 164')\n",
    "print(f'Current count: {len(data)}')\n",
    "print(f'Difference: {abs(164-len(data))}')"
   ]
  },
  {
   "cell_type": "markdown",
   "metadata": {},
   "source": [
    "### 10039 - At least One Need Present (Share of District Total) ###\n",
    "Previously these were calculated for jurisdictions only"
   ]
  },
  {
   "cell_type": "code",
   "execution_count": null,
   "metadata": {},
   "outputs": [
    {
     "name": "stdout",
     "output_type": "stream",
     "text": [
      "10039 - At least One Need Present (Share of District Total)\n",
      "Previous count: 133\n",
      "Current count: 140\n",
      "Difference: 24\n"
     ]
    }
   ],
   "source": [
    "# Data to append to output DataFrame\n",
    "data = []\n",
    "\n",
    "\n",
    "# Make dictionary of district total mileage\n",
    "df_district_totals['value'] = round(df_district_totals['value'], 3)\n",
    "dict_district_totals = df_district_totals[['Name', 'value']].set_index('Name').to_dict()['value']\n",
    "# del(df_district_totals)\n",
    "\n",
    "def get_share_of_district(row):\n",
    "    district = row['VDOT_District']\n",
    "    district_total = dict_district_totals[district]\n",
    "    share = round(row['value'] / district_total, 3)\n",
    "    row['value'] = share\n",
    "    \n",
    "    return row\n",
    "\n",
    "df_10039 = df_needs.groupby(['Jurisdiction', 'VDOT_District'])['Segment_Length'].sum().reset_index()\n",
    "df_10039 = df_10039.merge(geoIDs_Jurisdictions, left_on='Jurisdiction', right_on='Name')\n",
    "df_10039.rename(columns={'GeoID':'geoId', 'Segment_Length': 'value'}, inplace=True)\n",
    "df_10039 = df_10039.apply(get_share_of_district, axis=1)\n",
    "data.extend(df_10039[['geoId', 'value']].to_dict('records'))\n",
    "\n",
    "\n",
    "# Fill in missing attributes\n",
    "statId = 10039\n",
    "statistic = 'At least One Need Present (Share of District Total)'\n",
    "travelMarket = 'CoSS, RN, UDA, Safety'\n",
    "direction = 'N.A'\n",
    "unit = 'Percent'\n",
    "unitDescription = 'Share of District Total'\n",
    "relativePriority = 'Need Present'\n",
    "year = 2023\n",
    "for record in data:\n",
    "    record['statId'] = statId\n",
    "    record['statistic'] = statistic\n",
    "    record['travelMarket'] = travelMarket\n",
    "    record['direction'] = direction\n",
    "    record['unit'] = unit\n",
    "    record['unitDescription'] = unitDescription\n",
    "    record['relativePriority'] = relativePriority\n",
    "    record['year'] = year\n",
    "\n",
    "\n",
    "# Add data to output DataFrame\n",
    "df_output = df_output.append(data)\n",
    "\n",
    "# Check count of records.  Previous \n",
    "print('10039 - At least One Need Present (Share of District Total)')\n",
    "print('Previous count: 133')\n",
    "print(f'Current count: {len(data)}')\n",
    "print(f'Difference: {abs(164-len(data))}')"
   ]
  },
  {
   "cell_type": "markdown",
   "metadata": {},
   "source": [
    "### 10040 - At least One Need Present (Share of Statewide Total) ###\n",
    "Previously these were calculated for jurisdictions only"
   ]
  },
  {
   "cell_type": "code",
   "execution_count": null,
   "metadata": {},
   "outputs": [
    {
     "name": "stdout",
     "output_type": "stream",
     "text": [
      "10039 - At least One Need Present (Share of District Total)\n",
      "Previous count: 133\n",
      "Current count: 130\n",
      "Difference: 34\n"
     ]
    }
   ],
   "source": [
    "# Data to append to output DataFrame\n",
    "data = []\n",
    "\n",
    "\n",
    "# Find statewide total\n",
    "statewide_total = df_needs['Segment_Length'].sum()\n",
    "\n",
    "def get_share_of_statewide(row):\n",
    "    share = round(row['value'] / statewide_total, 3)\n",
    "    row['value'] = share\n",
    "    \n",
    "    return row\n",
    "\n",
    "df_10040 = df_needs.groupby('Jurisdiction')['Segment_Length'].sum().reset_index()\n",
    "df_10040 = df_10040.merge(geoIDs_Jurisdictions, left_on='Jurisdiction', right_on='Name')\n",
    "df_10040.rename(columns={'GeoID':'geoId', 'Segment_Length': 'value'}, inplace=True)\n",
    "df_10039 = df_10040.apply(get_share_of_statewide, axis=1)\n",
    "data.extend(df_10040[['geoId', 'value']].to_dict('records'))\n",
    "\n",
    "\n",
    "# Fill in missing attributes\n",
    "statId = 10040\n",
    "statistic = 'At least One Need Present (Share of Statewide Total)'\n",
    "travelMarket = 'CoSS, RN, UDA, Safety'\n",
    "direction = 'N.A'\n",
    "unit = 'Percent'\n",
    "unitDescription = 'Share of District Total'\n",
    "relativePriority = 'Need Present'\n",
    "year = 2023\n",
    "for record in data:\n",
    "    record['statId'] = statId\n",
    "    record['statistic'] = statistic\n",
    "    record['travelMarket'] = travelMarket\n",
    "    record['direction'] = direction\n",
    "    record['unit'] = unit\n",
    "    record['unitDescription'] = unitDescription\n",
    "    record['relativePriority'] = relativePriority\n",
    "    record['year'] = year\n",
    "\n",
    "\n",
    "# Add data to output DataFrame\n",
    "df_output = df_output.append(data)\n",
    "\n",
    "# Check count of records.  Previous \n",
    "print('10039 - At least One Need Present (Share of District Total)')\n",
    "print('Previous count: 133')\n",
    "print(f'Current count: {len(data)}')\n",
    "print(f'Difference: {abs(164-len(data))}')"
   ]
  }
 ],
 "metadata": {
  "kernelspec": {
   "display_name": "Python 3.7.11 64-bit ('arcgispro-py3')",
   "language": "python",
   "name": "python3"
  },
  "language_info": {
   "codemirror_mode": {
    "name": "ipython",
    "version": 3
   },
   "file_extension": ".py",
   "mimetype": "text/x-python",
   "name": "python",
   "nbconvert_exporter": "python",
   "pygments_lexer": "ipython3",
   "version": "3.7.11"
  },
  "orig_nbformat": 4,
  "vscode": {
   "interpreter": {
    "hash": "ce21b655b4d6c9e397d5ad93d5666c623f49909f6d0cc2f72076dafcf1b3ecfb"
   }
  }
 },
 "nbformat": 4,
 "nbformat_minor": 2
}
